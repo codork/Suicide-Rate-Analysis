{
 "cells": [
  {
   "cell_type": "code",
   "execution_count": 2,
   "metadata": {},
   "outputs": [],
   "source": [
    "#!/usr/bin/env python\n",
    "# coding: utf-8\n",
    "\n",
    "# In[7]:\n",
    "\n",
    "\n",
    "import csv\n",
    "\n",
    "\n",
    "# In[9]:\n",
    "\n",
    "\n",
    "ages = []\n",
    "rows = []\n",
    "\n",
    "with open('master.csv') as master:\n",
    "    csvreader = csv.reader(master, delimiter=',')\n",
    "\n",
    "    fields = next(csvreader)\n",
    "\n",
    "    for row in csvreader:\n",
    "        age = row[3].split(' ')[0].strip('+').split('-')\n",
    "        row[9] = \"\".join(row[9].split(','))\n",
    "\n",
    "        if (len(age) == 2):\n",
    "            row.append(age[0])\n",
    "            row.append(age[1])\n",
    "        else:\n",
    "            row.append(age[0])\n",
    "            row.append('120')\n",
    "        #remove 'age' column in old format\n",
    "        row.remove(row[3])\n",
    "        #remove 'country-year' column\n",
    "        row.remove(row[6])\n",
    "        #remove 'HDI'\n",
    "        row.remove(row[6])\n",
    "\n",
    "        rows.append(row)\n",
    "\n",
    "    fields.remove(fields[3])\n",
    "    fields.remove(fields[6])\n",
    "    fields.remove(fields[6])\n",
    "\n",
    "    fields.append('age_lb')\n",
    "    fields.append('age_ub')\n",
    "\n",
    "    with open('suicide_data.csv', 'w') as newfile:\n",
    "        csvwriter = csv.writer(newfile)\n",
    "\n",
    "        csvwriter.writerow(fields)\n",
    "\n",
    "        csvwriter.writerows(rows)\n",
    "\n",
    "\n",
    "# In[ ]:\n",
    "\n",
    "\n",
    "\n",
    "\n"
   ]
  },
  {
   "cell_type": "code",
   "execution_count": null,
   "metadata": {},
   "outputs": [],
   "source": []
  }
 ],
 "metadata": {
  "kernelspec": {
   "display_name": "Python 3",
   "language": "python",
   "name": "python3"
  },
  "language_info": {
   "codemirror_mode": {
    "name": "ipython",
    "version": 3
   },
   "file_extension": ".py",
   "mimetype": "text/x-python",
   "name": "python",
   "nbconvert_exporter": "python",
   "pygments_lexer": "ipython3",
   "version": "3.7.4"
  }
 },
 "nbformat": 4,
 "nbformat_minor": 2
}
